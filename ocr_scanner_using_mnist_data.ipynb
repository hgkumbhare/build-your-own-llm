{
  "nbformat": 4,
  "nbformat_minor": 0,
  "metadata": {
    "colab": {
      "provenance": [],
      "gpuType": "T4"
    },
    "kernelspec": {
      "name": "python3",
      "display_name": "Python 3"
    },
    "language_info": {
      "name": "python"
    },
    "accelerator": "GPU"
  },
  "cells": [
    {
      "cell_type": "code",
      "execution_count": 2,
      "metadata": {
        "colab": {
          "base_uri": "https://localhost:8080/"
        },
        "id": "Hs7KCjtfsEQ8",
        "outputId": "f42ff151-c079-4e49-da6f-a78cdfc3663f"
      },
      "outputs": [
        {
          "output_type": "stream",
          "name": "stderr",
          "text": [
            "100%|██████████| 9.91M/9.91M [00:00<00:00, 17.4MB/s]\n",
            "100%|██████████| 28.9k/28.9k [00:00<00:00, 471kB/s]\n",
            "100%|██████████| 1.65M/1.65M [00:00<00:00, 3.77MB/s]\n",
            "100%|██████████| 4.54k/4.54k [00:00<00:00, 9.26MB/s]"
          ]
        },
        {
          "output_type": "stream",
          "name": "stdout",
          "text": [
            "Number of train samples: 60000\n",
            "Number of test samples: 10000\n"
          ]
        },
        {
          "output_type": "stream",
          "name": "stderr",
          "text": [
            "\n"
          ]
        }
      ],
      "source": [
        "# Data Collection Stage.\n",
        "\n",
        "import torch\n",
        "import torchvision\n",
        "from torchvision import transforms\n",
        "\n",
        "# Convert image to tensor.\n",
        "transform = transforms.Compose([transforms.ToTensor()])\n",
        "\n",
        "# Load the MNIST train dataset.\n",
        "train_dataset = torchvision.datasets.MNIST(\n",
        "    root='./data', train=True, download=True, transform=transform\n",
        ")\n",
        "\n",
        "# Load the MNIST test dataset.\n",
        "test_dataset = torchvision.datasets.MNIST(\n",
        "    root='./data', train=False, download=True, transform=transform\n",
        ")\n",
        "\n",
        "print(f\"Number of train samples: {len(train_dataset)}\")\n",
        "print(f\"Number of test samples: {len(test_dataset)}\")"
      ]
    },
    {
      "cell_type": "code",
      "source": [
        "# Model training stage.\n",
        "\n",
        "import matplotlib.pyplot as plt\n",
        "\n",
        "class MultiClassification(torch.nn.Module):\n",
        "    def __init__(self, input_dim, output_dim):\n",
        "        super(MultiClassification, self).__init__()\n",
        "        self.model = torch.nn.Sequential(\n",
        "            torch.nn.Conv2d(in_channels=1, out_channels=8, kernel_size=3, stride=1, padding=1),\n",
        "            torch.nn.ReLU(),\n",
        "            torch.nn.MaxPool2d(kernel_size=2, stride=2),\n",
        "            torch.nn.Conv2d(in_channels=8, out_channels=4, kernel_size=3, stride=1, padding=1),\n",
        "            torch.nn.ReLU(),\n",
        "            torch.nn.MaxPool2d(kernel_size=2, stride=2),\n",
        "            torch.nn.Flatten(),\n",
        "            torch.nn.Linear(4*7*7, 64),\n",
        "            torch.nn.ReLU(),\n",
        "            torch.nn.Linear(64, 10),\n",
        "        )\n",
        "\n",
        "    def forward(self, x):\n",
        "      return self.model(x)\n",
        "\n",
        "\n",
        "learning_rate = 0.0002\n",
        "model = MultiClassification(784, 10)\n",
        "optimizer = torch.optim.Adam(model.parameters(), lr=learning_rate)\n",
        "criterion = torch.nn.CrossEntropyLoss()\n",
        "\n",
        "train_loader = torch.utils.data.DataLoader(train_dataset, batch_size=64, shuffle=True)\n",
        "val_loader = torch.utils.data.DataLoader(test_dataset, batch_size=64, shuffle=False)\n",
        "\n",
        "train_losses = []\n",
        "val_losses = []\n",
        "for epoch in range(20):\n",
        "  print(f\"Epoch {epoch+1}\")\n",
        "  model.train()\n",
        "  train_loss = 0\n",
        "  for batch_idx, (data, target) in enumerate(train_loader):\n",
        "    optimizer.zero_grad()\n",
        "    output = model(data)\n",
        "    loss = criterion(output, target)\n",
        "    loss.backward()\n",
        "    optimizer.step()\n",
        "    train_loss+=loss.item()\n",
        "\n",
        "  eval_loss = 0\n",
        "  model.eval()\n",
        "  with torch.no_grad():\n",
        "    for data, target in val_loader:\n",
        "      output = model(data)\n",
        "      loss = criterion(output, target)\n",
        "      eval_loss+=loss.item()\n",
        "\n",
        "  print(f\"Train Loss: {train_loss/len(train_loader)} and Eval Loss: {eval_loss/len(val_loader)}\")\n",
        "  train_losses.append(train_loss/len(train_loader))\n",
        "  val_losses.append(eval_loss/len(val_loader))\n",
        "\n",
        "\n",
        "def plot_losses(train_losses, val_losses):\n",
        "  plt.figure(figsize=(8, 5))\n",
        "  plt.plot(train_losses, label='train_loss')\n",
        "  plt.plot(val_losses, label='eval_loss')\n",
        "  plt.xlabel('Epoch')\n",
        "  plt.ylabel('Loss')\n",
        "  plt.legend()\n",
        "  plt.show()\n",
        "plot_losses(train_losses, val_losses)\n"
      ],
      "metadata": {
        "colab": {
          "base_uri": "https://localhost:8080/",
          "height": 1000
        },
        "id": "VdZhCi-DwsO_",
        "outputId": "c596ab94-351e-45b4-b807-97a9c6ade180"
      },
      "execution_count": 3,
      "outputs": [
        {
          "output_type": "stream",
          "name": "stdout",
          "text": [
            "Epoch 1\n",
            "Train Loss: 0.9052216846392607 and Eval Loss: 0.383466526960871\n",
            "Epoch 2\n",
            "Train Loss: 0.3357735397750889 and Eval Loss: 0.27423832565546036\n",
            "Epoch 3\n",
            "Train Loss: 0.25893238251174944 and Eval Loss: 0.2217935272047569\n",
            "Epoch 4\n",
            "Train Loss: 0.2145145658705471 and Eval Loss: 0.19058244855730397\n",
            "Epoch 5\n",
            "Train Loss: 0.18264474262044564 and Eval Loss: 0.16503897549845514\n",
            "Epoch 6\n",
            "Train Loss: 0.15967447044593946 and Eval Loss: 0.14033068524329526\n",
            "Epoch 7\n",
            "Train Loss: 0.1421215188111673 and Eval Loss: 0.12606575433016534\n",
            "Epoch 8\n",
            "Train Loss: 0.12794432310816417 and Eval Loss: 0.11453692054755654\n",
            "Epoch 9\n",
            "Train Loss: 0.11615893088761708 and Eval Loss: 0.10825238537316205\n",
            "Epoch 10\n",
            "Train Loss: 0.10706128315456005 and Eval Loss: 0.10395456592857862\n",
            "Epoch 11\n",
            "Train Loss: 0.09958432653178173 and Eval Loss: 0.09203680018541421\n",
            "Epoch 12\n",
            "Train Loss: 0.09351881412662137 and Eval Loss: 0.08996765711493078\n",
            "Epoch 13\n",
            "Train Loss: 0.08697223372912324 and Eval Loss: 0.09062450183822424\n",
            "Epoch 14\n",
            "Train Loss: 0.08235926683575137 and Eval Loss: 0.0847433513296608\n",
            "Epoch 15\n",
            "Train Loss: 0.07772370044197609 and Eval Loss: 0.08388579455144989\n",
            "Epoch 16\n",
            "Train Loss: 0.07482043953378127 and Eval Loss: 0.07751543158450265\n",
            "Epoch 17\n",
            "Train Loss: 0.07073262493326657 and Eval Loss: 0.0742343439439543\n",
            "Epoch 18\n",
            "Train Loss: 0.0673238391097365 and Eval Loss: 0.07172111527227565\n",
            "Epoch 19\n",
            "Train Loss: 0.0648995088060885 and Eval Loss: 0.068254144416468\n",
            "Epoch 20\n",
            "Train Loss: 0.06228841996904629 and Eval Loss: 0.06753795858117408\n"
          ]
        },
        {
          "output_type": "display_data",
          "data": {
            "text/plain": [
              "<Figure size 800x500 with 1 Axes>"
            ],
            "image/png": "[encoded data removed]"
          },
          "metadata": {}
        }
      ]
    },
    {
      "cell_type": "code",
      "source": [
        "# Evaluation Stage\n",
        "# Compute precision and recall.\n",
        "\n",
        "precision = 0\n",
        "for data, target in train_loader:\n",
        "    output = model(data)\n",
        "    output.argmax(dim=1)\n",
        "    precision += (output.argmax(dim=1) == target).sum().item()/len(target)\n",
        "print(f\"Train Precision: {precision/len(train_loader)}\")\n",
        "\n",
        "precision = 0\n",
        "for data, target in val_loader:\n",
        "    output = model(data)\n",
        "    output.argmax(dim=1)\n",
        "    precision += (output.argmax(dim=1) == target).sum().item()/len(target)\n",
        "print(f\"Val Precision: {precision/len(val_loader)}\")"
      ],
      "metadata": {
        "colab": {
          "base_uri": "https://localhost:8080/"
        },
        "id": "ggmw30PjSX_L",
        "outputId": "2e390553-0d06-4bb6-e766-ae4938834a30"
      },
      "execution_count": 12,
      "outputs": [
        {
          "output_type": "stream",
          "name": "stdout",
          "text": [
            "Train Precision: 0.9828424840085288\n",
            "Val Precision: 0.979796974522293\n"
          ]
        }
      ]
    }
  ]
}