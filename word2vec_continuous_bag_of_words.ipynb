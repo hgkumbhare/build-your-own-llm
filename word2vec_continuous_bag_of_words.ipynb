{
  "cells": [
    {
      "cell_type": "code",
      "execution_count": 4,
      "metadata": {
        "id": "ilTuxX9qnarj",
        "colab": {
          "base_uri": "https://localhost:8080/"
        },
        "outputId": "21271fc8-2165-4f24-df9a-c5101ebb1511"
      },
      "outputs": [
        {
          "output_type": "stream",
          "name": "stdout",
          "text": [
            "\u001b[?25l   \u001b[90m━━━━━━━━━━━━━━━━━━━━━━━━━━━━━━━━━━━━━━━━\u001b[0m \u001b[32m0.0/494.8 kB\u001b[0m \u001b[31m?\u001b[0m eta \u001b[36m-:--:--\u001b[0m\r\u001b[2K   \u001b[90m━━━━━━━━━━━━━━━━━━━━━━━━━━━━━━━━━━━━━━━━\u001b[0m \u001b[32m494.8/494.8 kB\u001b[0m \u001b[31m32.7 MB/s\u001b[0m eta \u001b[36m0:00:00\u001b[0m\n",
            "\u001b[?25h\u001b[?25l   \u001b[90m━━━━━━━━━━━━━━━━━━━━━━━━━━━━━━━━━━━━━━━━\u001b[0m \u001b[32m0.0/193.6 kB\u001b[0m \u001b[31m?\u001b[0m eta \u001b[36m-:--:--\u001b[0m\r\u001b[2K   \u001b[90m━━━━━━━━━━━━━━━━━━━━━━━━━━━━━━━━━━━━━━━━\u001b[0m \u001b[32m193.6/193.6 kB\u001b[0m \u001b[31m14.9 MB/s\u001b[0m eta \u001b[36m0:00:00\u001b[0m\n",
            "\u001b[?25h\u001b[31mERROR: pip's dependency resolver does not currently take into account all the packages that are installed. This behaviour is the source of the following dependency conflicts.\n",
            "torch 2.6.0+cu124 requires nvidia-cublas-cu12==12.4.5.8; platform_system == \"Linux\" and platform_machine == \"x86_64\", but you have nvidia-cublas-cu12 12.5.3.2 which is incompatible.\n",
            "torch 2.6.0+cu124 requires nvidia-cuda-cupti-cu12==12.4.127; platform_system == \"Linux\" and platform_machine == \"x86_64\", but you have nvidia-cuda-cupti-cu12 12.5.82 which is incompatible.\n",
            "torch 2.6.0+cu124 requires nvidia-cuda-nvrtc-cu12==12.4.127; platform_system == \"Linux\" and platform_machine == \"x86_64\", but you have nvidia-cuda-nvrtc-cu12 12.5.82 which is incompatible.\n",
            "torch 2.6.0+cu124 requires nvidia-cuda-runtime-cu12==12.4.127; platform_system == \"Linux\" and platform_machine == \"x86_64\", but you have nvidia-cuda-runtime-cu12 12.5.82 which is incompatible.\n",
            "torch 2.6.0+cu124 requires nvidia-cudnn-cu12==9.1.0.70; platform_system == \"Linux\" and platform_machine == \"x86_64\", but you have nvidia-cudnn-cu12 9.3.0.75 which is incompatible.\n",
            "torch 2.6.0+cu124 requires nvidia-cufft-cu12==11.2.1.3; platform_system == \"Linux\" and platform_machine == \"x86_64\", but you have nvidia-cufft-cu12 11.2.3.61 which is incompatible.\n",
            "torch 2.6.0+cu124 requires nvidia-curand-cu12==10.3.5.147; platform_system == \"Linux\" and platform_machine == \"x86_64\", but you have nvidia-curand-cu12 10.3.6.82 which is incompatible.\n",
            "torch 2.6.0+cu124 requires nvidia-cusolver-cu12==11.6.1.9; platform_system == \"Linux\" and platform_machine == \"x86_64\", but you have nvidia-cusolver-cu12 11.6.3.83 which is incompatible.\n",
            "torch 2.6.0+cu124 requires nvidia-cusparse-cu12==12.3.1.170; platform_system == \"Linux\" and platform_machine == \"x86_64\", but you have nvidia-cusparse-cu12 12.5.1.3 which is incompatible.\n",
            "torch 2.6.0+cu124 requires nvidia-nvjitlink-cu12==12.4.127; platform_system == \"Linux\" and platform_machine == \"x86_64\", but you have nvidia-nvjitlink-cu12 12.5.82 which is incompatible.\n",
            "gcsfs 2025.3.2 requires fsspec==2025.3.2, but you have fsspec 2025.3.0 which is incompatible.\u001b[0m\u001b[31m\n",
            "\u001b[0m"
          ]
        }
      ],
      "source": [
        "!pip install --upgrade datasets --quiet"
      ]
    },
    {
      "cell_type": "code",
      "execution_count": 13,
      "metadata": {
        "colab": {
          "base_uri": "https://localhost:8080/"
        },
        "id": "Dwdoi6GHnNVr",
        "outputId": "1071e007-7bed-4bca-fe85-8ab7ad231250"
      },
      "outputs": [
        {
          "output_type": "stream",
          "name": "stdout",
          "text": [
            "120000\n"
          ]
        }
      ],
      "source": [
        "# Read datasets.\n",
        "from datasets import load_dataset\n",
        "\n",
        "dataset = load_dataset(\"ag_news\")\n",
        "train_dataset = dataset[\"train\"][\"text\"]\n",
        "test_dataset = dataset[\"test\"][\"text\"]\n"
      ]
    },
    {
      "cell_type": "code",
      "source": [
        "train_dataset_str = ' '.join(train_dataset)\n",
        "test_dataset_str = ' '.join(test_dataset)\n",
        "print(train_dataset_str[:1000])\n",
        "print(len(train_dataset_str)) #28497302\n",
        "train_dataset_str = train_dataset_str[:10000]\n",
        "test_dataset_str = test_dataset_str[:1000]\n",
        "print(len(train_dataset_str)) #10000"
      ],
      "metadata": {
        "colab": {
          "base_uri": "https://localhost:8080/"
        },
        "id": "xakJqCSWI8wx",
        "outputId": "c183a2b6-4020-4ab7-cf84-5620104b2dae"
      },
      "execution_count": 15,
      "outputs": [
        {
          "output_type": "stream",
          "name": "stdout",
          "text": [
            "Wall St. Bears Claw Back Into the Black (Reuters) Reuters - Short-sellers, Wall Street's dwindling\\band of ultra-cynics, are seeing green again. Carlyle Looks Toward Commercial Aerospace (Reuters) Reuters - Private investment firm Carlyle Group,\\which has a reputation for making well-timed and occasionally\\controversial plays in the defense industry, has quietly placed\\its bets on another part of the market. Oil and Economy Cloud Stocks' Outlook (Reuters) Reuters - Soaring crude prices plus worries\\about the economy and the outlook for earnings are expected to\\hang over the stock market next week during the depth of the\\summer doldrums. Iraq Halts Oil Exports from Main Southern Pipeline (Reuters) Reuters - Authorities have halted oil export\\flows from the main pipeline in southern Iraq after\\intelligence showed a rebel militia could strike\\infrastructure, an oil official said on Saturday. Oil prices soar to all-time record, posing new menace to US economy (AFP) AFP - Tearaway world oil\n",
            "28497302\n",
            "10000\n"
          ]
        }
      ]
    },
    {
      "cell_type": "code",
      "source": [
        "import tiktoken\n",
        "import unicodedata\n",
        "from collections import OrderedDict\n",
        "\n",
        "# Load the tokenizer for GPT-4, GPT-3.5, and GPT-4o\n",
        "enc = tiktoken.get_encoding(\"cl100k_base\")\n",
        "\n",
        "# Encode text into tokens\n",
        "tokens = enc.encode(\"ChatGPT is amazing!\")\n",
        "print(tokens)  # list of token IDs\n",
        "\n",
        "# Decode tokens back to text\n",
        "text = enc.decode(tokens)\n",
        "print(text)  # 'ChatGPT is amazing!'\n",
        "\n",
        "token_id_map_global = {}\n",
        "\n",
        "def remove_accents(input_str):\n",
        "    nfkd_form = unicodedata.normalize('NFD', input_str)\n",
        "    return ''.join([c for c in nfkd_form if not unicodedata.combining(c)])\n",
        "\n",
        "def convert_tokens_to_ids(input_string, data_set):\n",
        "  global token_id_map_global\n",
        "  global vocab_size\n",
        "  # if token not in token2id:\n",
        "  #   return token2id['<unk>']\n",
        "  input_string = input_string.lower()\n",
        "  input_string = remove_accents(input_string)\n",
        "  tokens = enc.encode(input_string)\n",
        "  if data_set == 'train':\n",
        "    unique_tokens = list(OrderedDict.fromkeys(tokens))\n",
        "    vocab_size = len(unique_tokens)\n",
        "    # Build mapping: original tiktoken ID → new compact ID\n",
        "    token_id_map_global = {orig_id: new_id for new_id, orig_id in enumerate(unique_tokens)}\n",
        "  remapped = [token_id_map_global.get(t, 0) for t in tokens]\n",
        "  return remapped\n",
        "\n",
        "def convert_ids_to_tokens(ids):\n",
        "  # if id not in id2token:\n",
        "  #   return '<unk>'\n",
        "  return enc.decode(ids)\n",
        "\n",
        "\n",
        "# vocab_size = enc.n_vocab\n",
        "# print(vocab_size) #100277\n",
        "# print(len(set((convert_tokens_to_ids(train_dataset_str, 'train')))))\n",
        "# print(len(set((convert_tokens_to_ids(test_dataset_str, 'test')))))\n",
        "# # print(len(set(convert_tokens_to_ids(test_dataset_str)) - set(convert_tokens_to_ids(train_dataset_str))))\n",
        "# # print(max(convert_tokens_to_ids(train_dataset_str)))\n",
        "# print(vocab_size)"
      ],
      "metadata": {
        "id": "NDED74dcr9j6",
        "colab": {
          "base_uri": "https://localhost:8080/"
        },
        "outputId": "b675ece2-4eea-4290-d914-a90c2a34a4ad"
      },
      "execution_count": 16,
      "outputs": [
        {
          "output_type": "stream",
          "name": "stdout",
          "text": [
            "[16047, 38, 2898, 374, 8056, 0]\n",
            "ChatGPT is amazing!\n"
          ]
        }
      ]
    },
    {
      "cell_type": "code",
      "source": [
        "tokens_to_skip = 100\n",
        "import random\n",
        "\n",
        "def pick_random_tokens(tokens):\n",
        "  return [token for token in random.sample(tokens, 5)]\n",
        "\n",
        "def generate_model_input(dataset, data_type):\n",
        "  rows = []\n",
        "  tokens = convert_tokens_to_ids(dataset, data_type)\n",
        "  print(tokens)\n",
        "  for i in range(0, len(tokens)-5+1, tokens_to_skip):\n",
        "    context = tokens[i:i+2] + tokens[i+3:i+5]\n",
        "    # Process and convert to id.\n",
        "    target = tokens[i+2]\n",
        "    negatives = pick_random_tokens(tokens)\n",
        "    rows.append((context, target, negatives))\n",
        "\n",
        "  print(rows[:10])\n",
        "  return rows\n",
        "\n",
        "x = generate_model_input(train_dataset_str, 'train')\n",
        "random.shuffle(x)\n",
        "split_index = int(len(x) * 0.9)\n",
        "train_x = x[:split_index]\n",
        "val_x = x[split_index:]\n",
        "test_x = generate_model_input(test_dataset_str, 'test')\n",
        "\n"
      ],
      "metadata": {
        "colab": {
          "base_uri": "https://localhost:8080/"
        },
        "id": "Gkzvpfo5COiR",
        "outputId": "d62effd7-d078-4464-eff2-3e013663e5d5"
      },
      "execution_count": 17,
      "outputs": [
        {
          "output_type": "stream",
          "name": "stdout",
          "text": [
            "[0, 1, 2, 3, 4, 5, 6, 7, 8, 9, 10, 11, 12, 13, 11, 14, 15, 16, 17, 18, 19, 20, 21, 22, 23, 24, 25, 26, 27, 28, 29, 30, 18, 31, 32, 33, 34, 2, 35, 36, 37, 38, 39, 40, 41, 9, 10, 11, 12, 13, 11, 14, 42, 43, 44, 35, 36, 37, 45, 46, 47, 48, 49, 50, 51, 52, 53, 54, 55, 56, 57, 24, 58, 59, 60, 61, 62, 7, 63, 64, 18, 48, 65, 66, 24, 67, 68, 69, 70, 71, 26, 7, 72, 2, 73, 56, 74, 75, 76, 77, 78, 9, 10, 11, 12, 13, 11, 14, 79, 80, 81, 82, 83, 24, 84, 7, 74, 56, 7, 78, 51, 85, 31, 86, 87, 24, 88, 89, 7, 90, 72, 91, 92, 93, 7, 94, 26, 7, 24, 95, 96, 97, 98, 99, 2, 100, 101, 102, 103, 73, 104, 105, 106, 107, 108, 9, 10, 11, 12, 13, 11, 14, 109, 110, 111, 73, 112, 24, 113, 105, 7, 106, 108, 62, 107, 100, 101, 114, 24, 115, 116, 49, 117, 118, 119, 120, 24, 121, 122, 18, 123, 73, 124, 125, 69, 126, 127, 2, 73, 81, 128, 87, 129, 130, 131, 18, 132, 133, 134, 87, 135, 74, 9, 136, 137, 12, 138, 137, 14, 139, 140, 141, 73, 81, 18, 142, 143, 144, 56, 145, 146, 147, 18, 148, 49, 133, 149, 134, 150, 151, 152, 153, 7, 135, 154, 155, 2, 76, 156, 157, 18, 158, 159, 160, 161, 9, 10, 11, 12, 13, 11, 14, 76, 162, 163, 164, 69, 165, 24, 166, 167, 159, 161, 51, 7, 160, 168, 73, 81, 169, 170, 171, 172, 173, 174, 175, 176, 177, 18, 178, 179, 49, 180, 78, 105, 181, 182, 183, 184, 185, 2, 9, 186, 184, 187, 12, 188, 189, 190, 62, 191, 92, 9, 192, 12, 193, 14, 194, 26, 7, 195, 21, 196, 188, 72, 197, 189, 190, 198, 171, 172, 173, 174, 199, 2, 200, 201, 62, 7, 191, 92, 87, 171, 172, 173, 174, 202, 2, 203, 204, 18, 7, 43, 205, 206, 125, 207, 208, 2, 209, 210, 211, 212, 89, 213, 9, 214, 215, 216, 12, 135, 217, 215, 216, 14, 196, 218, 219, 5, 49, 220, 62, 221, 222, 18, 56, 133, 223, 51, 224, 225, 226, 190, 227, 92, 18, 7, 228, 125, 207, 208, 18, 229, 7, 74, 230, 231, 105, 49, 232, 95, 233, 2, 234, 235, 9, 236, 237, 216, 12, 51, 237, 216, 14, 114, 238, 49, 239, 240, 2, 62, 241, 18, 96, 242, 243, 244, 245, 246, 247, 87, 248, 168, 7, 249, 250, 251, 49, 40, 252, 253, 44, 251, 123, 254, 255, 256, 26, 171, 172, 173, 174, 257, 18, 258, 2, 259, 114, 18, 49, 260, 261, 262, 198, 263, 264, 87, 265, 266, 267, 268, 269, 270, 271, 226, 272, 273, 263, 274, 2, 158, 18, 251, 171, 275, 18, 276, 277, 278, 271, 279, 7, 280, 281, 282, 105, 283, 284, 285, 286, 245, 246, 2, 19, 1, 2, 3, 4, 5, 6, 7, 8, 171, 133, 287, 9, 10, 11, 12, 14, 15, 16, 17, 18, 19, 20, 21, 22, 23, 171, 288, 26, 27, 28, 29, 30, 18, 31, 32, 33, 34, 2, 73, 56, 74, 75, 76, 77, 78, 171, 133, 287, 9, 10, 11, 12, 14, 79, 80, 81, 82, 83, 171, 270, 7, 74, 56, 7, 78, 51, 85, 31, 86, 87, 171, 289, 89, 7, 90, 72, 91, 92, 93, 7, 94, 26, 7, 171, 290, 96, 97, 98, 99, 2, 291, 292, 51, 293, 294, 87, 295, 296, 297, 298, 299, 171, 300, 301, 302, 9, 10, 11, 12, 14, 293, 294, 303, 304, 305, 87, 96, 306, 307, 308, 278, 171, 73, 81, 309, 310, 31, 311, 312, 313, 314, 198, 171, 315, 2, 316, 317, 171, 318, 319, 320, 9, 321, 322, 12, 26, 80, 18, 100, 302, 21, 293, 294, 323, 125, 171, 126, 127, 18, 324, 325, 81, 119, 326, 327, 2, 328, 329, 294, 330, 331, 157, 332, 333, 334, 335, 171, 336, 337, 9, 10, 11, 12, 14, 328, 329, 294, 73, 338, 331, 339, 171, 340, 332, 87, 341, 131, 80, 81, 18, 293, 294, 342, 171, 343, 334, 335, 344, 345, 346, 347, 348, 125, 69, 349, 2, 350, 351, 352, 353, 266, 87, 354, 355, 171, 356, 357, 287, 9, 10, 11, 12, 14, 7, 353, 51, 350, 171, 185, 358, 359, 360, 361, 362, 363, 364, 365, 266, 87, 49, 171, 354, 355, 69, 165, 114, 7, 366, 367, 205, 368, 369, 370, 171, 49, 371, 105, 372, 373, 2, 374, 375, 2, 376, 377, 378, 69, 131, 379, 380, 171, 133, 287, 9, 10, 11, 12, 14, 7, 376, 381, 382, 378, 69, 165, 171, 114, 383, 384, 49, 131, 372, 373, 2, 379, 385, 62, 221, 386, 387, 171, 388, 389, 69, 7, 74, 21, 390, 56, 391, 392, 87, 393, 171, 394, 395, 87, 396, 7, 397, 380, 2, 398, 399, 123, 400, 401, 402, 403, 404, 403, 405, 292, 87, 406, 407, 408, 409, 410, 411, 412, 18, 413, 414, 415, 416, 270, 417, 7, 188, 418, 419, 259, 2, 420, 421, 51, 5, 422, 423, 7, 424, 425, 26, 420, 230, 49, 426, 71, 26, 427, 7, 5, 422, 423, 428, 48, 429, 430, 49, 431, 432, 433, 2, 62, 49, 434, 72, 18, 435, 39, 436, 189, 437, 230, 438, 439, 51, 440, 62, 7, 90, 72, 441, 442, 18, 158, 443, 62, 436, 444, 197, 189, 110, 445, 87, 446, 49, 220, 447, 448, 419, 402, 449, 450, 451, 452, 453, 454, 455, 7, 456, 457, 458, 410, 459, 2, 135, 379, 385, 460, 461, 62, 221, 386, 7, 135, 379, 385, 48, 462, 171, 463, 87, 49, 131, 464, 465, 2, 316, 466, 168, 73, 467, 468, 469, 164, 18, 470, 87, 49, 191, 471, 2, 472, 473, 474, 415, 475, 51, 476, 77, 73, 477, 472, 119, 415, 478, 479, 480, 51, 49, 481, 482, 18, 483, 105, 484, 485, 476, 18, 49, 171, 486, 487, 223, 2, 350, 351, 352, 488, 489, 490, 491, 492, 7, 493, 494, 495, 51, 350, 21, 363, 364, 18, 496, 227, 497, 83, 89, 123, 498, 410, 391, 499, 62, 489, 490, 500, 2, 501, 502, 74, 503, 397, 124, 471, 211, 7, 171, 504, 505, 506, 501, 502, 74, 507, 87, 508, 18, 158, 437, 31, 509, 510, 405, 511, 434, 512, 62, 7, 160, 2, 513, 514, 62, 515, 149, 459, 62, 515, 514, 434, 168, 7, 516, 517, 49, 265, 62, 518, 56, 519, 520, 2, 521, 377, 69, 522, 523, 524, 525, 526, 527, 31, 528, 87, 171, 529, 2, 530, 198, 7, 531, 532, 533, 534, 18, 171, 158, 7, 535, 26, 324, 536, 7, 521, 56, 537, 310, 2, 35, 81, 434, 538, 7, 539, 7, 540, 26, 541, 542, 133, 56, 543, 544, 545, 190, 327, 89, 7, 170, 546, 547, 18, 49, 133, 548, 48, 549, 2, 531, 550, 551, 552, 526, 527, 531, 550, 551, 21, 533, 534, 553, 526, 527, 198, 49, 554, 555, 556, 87, 171, 557, 2, 530, 62, 49, 558, 87, 559, 459, 62, 7, 74, 2, 350, 353, 560, 69, 165, 123, 353, 26, 561, 62, 350, 18, 7, 366, 367, 562, 563, 119, 415, 564, 51, 168, 565, 168, 464, 173, 466, 18, 566, 567, 69, 165, 2, 568, 561, 569, 69, 570, 571, 572, 573, 574, 575, 576, 561, 326, 114, 577, 578, 579, 580, 18, 581, 7, 44, 582, 7, 583, 554, 584, 585, 326, 15, 26, 586, 2, 587, 588, 589, 44, 553, 590, 591, 26, 7, 592, 589, 593, 69, 7, 594, 595, 596, 26, 587, 597, 598, 227, 92, 599, 600, 601, 56, 525, 171, 602, 590, 2, 603, 604, 605, 606, 607, 105, 608, 609, 603, 604, 610, 7, 608, 609, 51, 49, 611, 87, 612, 51, 613, 114, 296, 455, 171, 614, 18, 258, 615, 105, 616, 54, 617, 618, 619, 62, 620, 621, 302, 2, 515, 622, 44, 623, 624, 7, 205, 625, 7, 626, 622, 627, 628, 198, 49, 629, 630, 230, 87, 631, 391, 632, 51, 234, 633, 2, 634, 635, 62, 72, 636, 637, 638, 639, 640, 18, 7, 634, 635, 641, 51, 642, 7, 643, 644, 645, 646, 647, 18, 230, 648, 87, 636, 263, 205, 69, 7, 90, 72, 2, 523, 649, 650, 651, 87, 652, 157, 73, 653, 523, 649, 650, 651, 286, 510, 230, 654, 87, 655, 123, 656, 171, 199, 2, 557, 317, 318, 49, 320, 26, 73, 6, 7, 72, 18, 87, 406, 657, 658, 659, 81, 2, 523, 649, 660, 661, 494, 464, 199, 466, 662, 49, 45, 663, 198, 7, 372, 664, 21, 665, 666, 667, 217, 668, 87, 669, 464, 199, 466, 9, 670, 671, 12, 69, 513, 114, 672, 673, 674, 660, 675, 62, 523, 649, 650, 651, 2, 676, 677, 678, 679, 680, 681, 682, 679, 683, 62, 684, 594, 685, 87, 248, 69, 7, 686, 687, 106, 688, 450, 26, 49, 689, 680, 681, 2, 690, 168, 451, 691, 692, 693, 419, 694, 251, 695, 696, 697, 185, 2, 698, 411, 699, 700, 584, 701, 702, 703, 704, 2, 158, 705, 411, 706, 48, 707, 69, 296, 708, 709, 2, 350, 351, 352, 710, 711, 62, 473, 712, 713, 714, 473, 715, 716, 717, 77, 718, 452, 719, 283, 558, 87, 720, 561, 26, 350, 185, 2, 62, 7, 181, 367, 205, 21, 477, 353, 721, 362, 363, 364, 2, 325, 119, 722, 723, 87, 415, 7, 724, 571, 725, 7, 726, 571, 2, 49, 727, 728, 21, 729, 730, 731, 727, 732, 116, 157, 62, 733, 734, 56, 735, 736, 737, 69, 738, 21, 218, 739, 740, 18, 541, 741, 105, 742, 671, 743, 56, 744, 745, 746, 87, 747, 56, 603, 748, 749, 18, 56, 750, 751, 7, 171, 530, 752, 739, 753, 410, 754, 755, 6, 7, 756, 2, 757, 758, 87, 759, 760, 7, 761, 762, 763, 761, 762, 230, 49, 764, 26, 391, 765, 766, 2, 325, 21, 7, 767, 26, 768, 671, 769, 2, 757, 62, 770, 771, 18, 457, 110, 772, 773, 49, 774, 775, 776, 777, 251, 768, 671, 56, 778, 779, 270, 780, 781, 248, 56, 782, 783, 784, 2, 510, 21, 785, 87, 755, 325, 761, 762, 48, 429, 7, 786, 21, 787, 788, 2, 789, 769, 2, 171, 315, 2, 790, 710, 49, 791, 792, 519, 793, 794, 49, 795, 303, 796, 157, 2, 797, 798, 279, 49, 799, 800, 801, 309, 802, 803, 804, 789, 805, 158, 168, 802, 806, 510, 87, 807, 62, 542, 808, 56, 809, 810, 18, 802, 811, 812, 697, 2, 802, 813, 814, 815, 816, 410, 263, 817, 56, 818, 819, 723, 820, 821, 307, 822, 823, 824, 87, 825, 2, 449, 7, 826, 827, 7, 828, 829, 830, 87, 831, 7, 832, 18, 802, 833, 2, 834, 475, 7, 835, 836, 26, 837, 838, 839, 303, 129, 840, 7, 841, 18, 842, 198, 843, 844, 845, 846, 246, 847, 77, 95, 126, 848, 849, 18, 850, 174, 851, 2, 171, 852, 853, 251, 7, 854, 62, 7, 855, 21, 856, 857, 2, 158, 437, 21, 291, 292, 87, 840, 263, 858, 2, 802, 859, 51, 860, 26, 7, 861, 862, 863, 864, 865, 18, 866, 325, 867, 18, 868, 869, 666, 56, 870, 297, 871, 359, 119, 34, 415, 872, 7, 873, 2, 850, 174, 263, 874, 875, 876, 877, 878, 56, 879, 880, 342, 881, 48, 707, 882, 325, 7, 135, 74, 48, 868, 883, 7, 884, 2, 850, 174, 885, 154, 886, 887, 888, 889, 2, 550, 890, 18, 62, 7, 891, 26, 892, 893, 21, 856, 590, 487, 18, 894, 895, 325, 510, 279, 296, 821, 49, 372, 896, 2, 897, 205, 898, 899, 546, 900, 297, 901, 171, 49, 902, 903, 904, 905, 897, 205, 230, 906, 546, 907, 781, 18, 908, 151, 909, 910, 18, 51, 911, 912, 278, 913, 411, 274, 581, 914, 69, 915, 49, 916, 917, 2, 918, 87, 607, 919, 920, 533, 921, 533, 921, 62, 919, 920, 331, 415, 613, 49, 220, 922, 2, 133, 923, 18, 924, 925, 18, 926, 18, 927, 18, 928, 18, 56, 929, 930, 31, 931, 51, 7, 932, 933, 934, 18, 49, 935, 936, 26, 7, 921, 18, 410, 464, 937, 18, 258, 62, 938, 918, 188, 939, 87, 919, 920, 227, 92, 2, 938, 918, 87, 607, 919, 920, 174, 534, 940, 523, 941, 464, 942, 943, 533, 921, 62, 919, 920, 331, 415, 613, 49, 220, 922, 2, 133, 923, 18, 924, 925, 18, 926, 18, 927, 18, 928, 18, 56, 929, 930, 31, 931, 51, 7, 932, 933, 934, 18, 49, 935, 936, 26, 7, 921, 18, 410, 464, 937, 18, 258, 62, 938, 918, 188, 939, 87, 919, 920, 227, 92, 2, 49, 133, 837, 944, 51, 49, 171, 945, 21, 946, 947, 49, 948, 913, 949, 950, 951, 952, 18, 7, 907, 953, 26, 954, 955, 18, 956, 957, 899, 958, 69, 959, 960]\n",
            "[([0, 1, 3, 4], 2, [7, 73, 864, 762, 471]), ([78, 9, 11, 12], 10, [526, 69, 839, 919, 858]), ([128, 87, 130, 131], 129, [48, 304, 581, 158, 552]), ([2, 9, 184, 187], 186, [56, 87, 49, 773, 750]), ([208, 18, 7, 74], 229, [62, 87, 326, 18, 174]), ([279, 7, 281, 282], 280, [49, 886, 581, 513, 157]), ([97, 98, 2, 291], 99, [98, 189, 1, 350, 862]), ([294, 73, 331, 339], 338, [586, 31, 352, 399, 647]), ([12, 14, 376, 381], 7, [39, 830, 959, 24, 7]), ([48, 429, 49, 431], 430, [51, 278, 158, 527, 468])]\n",
            "[609, 0, 51, 381, 0, 0, 114, 0, 0, 0, 0, 251, 722, 792, 0, 133, 0, 0, 451, 31, 473, 0, 0, 77, 114, 0, 410, 145, 0, 0, 44, 0, 0, 2, 7, 0, 230, 69, 710, 543, 42, 0, 0, 0, 0, 51, 0, 0, 0, 9, 0, 216, 12, 0, 216, 14, 0, 0, 18, 0, 419, 49, 543, 24, 0, 26, 0, 0, 746, 916, 51, 7, 171, 172, 173, 174, 942, 317, 0, 0, 0, 0, 18, 49, 0, 51, 24, 0, 0, 0, 0, 0, 0, 0, 0, 18, 48, 0, 0, 7, 0, 24, 0, 0, 51, 391, 0, 0, 2, 0, 2, 205, 0, 918, 87, 0, 0, 9, 192, 12, 193, 14, 49, 205, 0, 198, 49, 0, 0, 251, 7, 0, 26, 0, 0, 0, 49, 918, 87, 0, 49, 0, 26, 0, 0, 0, 18, 563, 31, 15, 0, 26, 0, 0, 18, 7, 0, 0, 26, 0, 2, 0, 0, 0, 0, 0, 9, 192, 12, 193, 14, 510, 21, 150, 0, 309, 0, 0, 0, 0, 0, 263, 0, 410, 49, 0, 26, 0, 0, 18, 471, 56, 0, 0, 18, 158, 311, 802, 0, 0, 7, 320, 584, 0, 2, 0, 584, 120, 62, 0, 802, 0, 2, 171]\n",
            "[([609, 0, 381, 0], 51, [48, 216, 0, 320, 0]), ([0, 24, 0, 51], 0, [51, 410, 0, 18, 0]), ([7, 320, 0, 2], 584, [14, 2, 0, 0, 2])]\n"
          ]
        }
      ]
    },
    {
      "cell_type": "code",
      "source": [
        "from torch.utils.data import Dataset\n",
        "\n",
        "class TokenDataset(Dataset):\n",
        "    def __init__(self, data):\n",
        "        self.data = data  # list of (context_list, target_id)\n",
        "\n",
        "    def __len__(self):\n",
        "        return len(self.data)\n",
        "\n",
        "    def __getitem__(self, idx):\n",
        "        context, positive, negatives = self.data[idx]\n",
        "        context_tensor = torch.tensor(context, dtype=torch.long)\n",
        "        positive_tensor = torch.tensor(positive, dtype=torch.long)\n",
        "        negatives_tensor = torch.tensor(negatives, dtype=torch.long)\n",
        "        return context_tensor, positive_tensor, negatives_tensor"
      ],
      "metadata": {
        "id": "8wBcaLrs7amp"
      },
      "execution_count": 18,
      "outputs": []
    },
    {
      "cell_type": "code",
      "source": [
        "from random import shuffle\n",
        "import torch\n",
        "import torch.nn as nn\n",
        "from torch.utils.data import Dataset, DataLoader\n",
        "import torch.nn.functional as F\n",
        "import matplotlib.pyplot as plt\n",
        "\n",
        "batch_size = 2048\n",
        "context_len = 4\n",
        "embedding_dim = 25\n",
        "lr = 0.001\n",
        "epochs = 100\n",
        "\n",
        "\n",
        "class Word2VecModel(torch.nn.Module):\n",
        "    def __init__(self, context_size, embedding_dim):\n",
        "        super(Word2VecModel, self).__init__()\n",
        "        self.embedding = nn.Embedding(vocab_size, embedding_dim) # 64 * embedding_dim\n",
        "        self.model = nn.Sequential(\n",
        "            nn.Linear(embedding_dim, vocab_size)\n",
        "        )\n",
        "\n",
        "    def forward(self, x):\n",
        "        embeds = self.embedding(x) # embeds = 64 * 4 * embedding_dim\n",
        "        avg_embeds = embeds.mean(dim=1) # embeds = 64 * embedding_dim\n",
        "        return self.model(avg_embeds) # 64 * vocab_size\n",
        "\n",
        "try:\n",
        "  train_dataloader = torch.utils.data.DataLoader(TokenDataset(train_x), batch_size=batch_size, shuffle=True)\n",
        "  val_dataloader = torch.utils.data.DataLoader(TokenDataset(val_x), batch_size=batch_size, shuffle=True)\n",
        "\n",
        "  model = Word2VecModel(context_len, embedding_dim)\n",
        "  optimizer = torch.optim.Adam(model.parameters(), lr=lr)\n",
        "  criterion = nn.CrossEntropyLoss()\n",
        "\n",
        "  train_losses=[]\n",
        "  val_losses=[]\n",
        "  for i in range(epochs):\n",
        "    train_loss=0\n",
        "    model.train()\n",
        "    for (context, target, negatives) in train_dataloader:\n",
        "      optimizer.zero_grad()\n",
        "      preds = model(context)\n",
        "      loss = criterion(preds, target)\n",
        "      loss.backward()\n",
        "      optimizer.step()\n",
        "      train_loss+=loss.item()\n",
        "    train_losses.append(train_loss/len(train_dataloader))\n",
        "\n",
        "    model.eval()\n",
        "    val_loss=0\n",
        "    with torch.no_grad():\n",
        "      for (context, target, negatives) in val_dataloader:\n",
        "        preds = model(context)\n",
        "        loss = criterion(preds, target)\n",
        "        val_loss+=loss.item()\n",
        "    print(f\"Epoch {i}: Train Loss: {train_loss/len(train_dataloader)} Val Loss: {val_loss/len(val_dataloader)}\")\n",
        "    val_losses.append(val_loss/len(val_dataloader))\n",
        "except Exception as e:\n",
        "  print(e)\n",
        "\n",
        "\n",
        "def plot_losses(train_losses, val_losses):\n",
        "  plt.figure(figsize=(8, 5))\n",
        "  plt.plot(train_losses, label='train_loss')\n",
        "  plt.plot(val_losses, label='eval_loss')\n",
        "  plt.xlabel('Epoch')\n",
        "  plt.ylabel('Loss')\n",
        "  plt.legend()\n",
        "  plt.show()\n",
        "plot_losses(train_losses, val_losses)\n"
      ],
      "metadata": {
        "id": "EVzyyguh0-w9",
        "colab": {
          "base_uri": "https://localhost:8080/",
          "height": 1000
        },
        "outputId": "56f0bb84-47d4-49c7-b446-727770a43125"
      },
      "execution_count": 24,
      "outputs": [
        {
          "output_type": "stream",
          "name": "stdout",
          "text": [
            "Epoch 0: Train Loss: 7.023711204528809 Val Loss: 6.762546062469482\n",
            "Epoch 1: Train Loss: 7.006006240844727 Val Loss: 6.762587070465088\n",
            "Epoch 2: Train Loss: 6.988309383392334 Val Loss: 6.762620449066162\n",
            "Epoch 3: Train Loss: 6.970618724822998 Val Loss: 6.762648105621338\n",
            "Epoch 4: Train Loss: 6.952932834625244 Val Loss: 6.762673854827881\n",
            "Epoch 5: Train Loss: 6.9352521896362305 Val Loss: 6.762697696685791\n",
            "Epoch 6: Train Loss: 6.917575836181641 Val Loss: 6.762720584869385\n",
            "Epoch 7: Train Loss: 6.899901390075684 Val Loss: 6.76274299621582\n",
            "Epoch 8: Train Loss: 6.882229328155518 Val Loss: 6.762763977050781\n",
            "Epoch 9: Train Loss: 6.864559173583984 Val Loss: 6.762784481048584\n",
            "Epoch 10: Train Loss: 6.846888542175293 Val Loss: 6.7628045082092285\n",
            "Epoch 11: Train Loss: 6.829216480255127 Val Loss: 6.762826442718506\n",
            "Epoch 12: Train Loss: 6.8115434646606445 Val Loss: 6.762848377227783\n",
            "Epoch 13: Train Loss: 6.793867588043213 Val Loss: 6.762872695922852\n",
            "Epoch 14: Train Loss: 6.776187419891357 Val Loss: 6.762899398803711\n",
            "Epoch 15: Train Loss: 6.758502960205078 Val Loss: 6.762928485870361\n",
            "Epoch 16: Train Loss: 6.740813255310059 Val Loss: 6.762960433959961\n",
            "Epoch 17: Train Loss: 6.72311544418335 Val Loss: 6.76299524307251\n",
            "Epoch 18: Train Loss: 6.705410957336426 Val Loss: 6.763034343719482\n",
            "Epoch 19: Train Loss: 6.6876959800720215 Val Loss: 6.763076305389404\n",
            "Epoch 20: Train Loss: 6.669971466064453 Val Loss: 6.76312255859375\n",
            "Epoch 21: Train Loss: 6.652233123779297 Val Loss: 6.763172626495361\n",
            "Epoch 22: Train Loss: 6.634481906890869 Val Loss: 6.763227462768555\n",
            "Epoch 23: Train Loss: 6.616717338562012 Val Loss: 6.763286590576172\n",
            "Epoch 24: Train Loss: 6.598936557769775 Val Loss: 6.763349533081055\n",
            "Epoch 25: Train Loss: 6.581137657165527 Val Loss: 6.763416290283203\n",
            "Epoch 26: Train Loss: 6.563321113586426 Val Loss: 6.763488292694092\n",
            "Epoch 27: Train Loss: 6.5454840660095215 Val Loss: 6.763563632965088\n",
            "Epoch 28: Train Loss: 6.527624607086182 Val Loss: 6.76364278793335\n",
            "Epoch 29: Train Loss: 6.5097432136535645 Val Loss: 6.763723850250244\n",
            "Epoch 30: Train Loss: 6.491837501525879 Val Loss: 6.7638092041015625\n",
            "Epoch 31: Train Loss: 6.473904609680176 Val Loss: 6.763896942138672\n",
            "Epoch 32: Train Loss: 6.455944538116455 Val Loss: 6.763987064361572\n",
            "Epoch 33: Train Loss: 6.4379563331604 Val Loss: 6.764079570770264\n",
            "Epoch 34: Train Loss: 6.4199371337890625 Val Loss: 6.7641730308532715\n",
            "Epoch 35: Train Loss: 6.401886940002441 Val Loss: 6.7642669677734375\n",
            "Epoch 36: Train Loss: 6.383802890777588 Val Loss: 6.764362335205078\n",
            "Epoch 37: Train Loss: 6.365683078765869 Val Loss: 6.764458179473877\n",
            "Epoch 38: Train Loss: 6.347527980804443 Val Loss: 6.764554977416992\n",
            "Epoch 39: Train Loss: 6.329334259033203 Val Loss: 6.764651775360107\n",
            "Epoch 40: Train Loss: 6.311101913452148 Val Loss: 6.764747619628906\n",
            "Epoch 41: Train Loss: 6.2928290367126465 Val Loss: 6.764842987060547\n",
            "Epoch 42: Train Loss: 6.274514675140381 Val Loss: 6.7649383544921875\n",
            "Epoch 43: Train Loss: 6.256155490875244 Val Loss: 6.7650322914123535\n",
            "Epoch 44: Train Loss: 6.2377519607543945 Val Loss: 6.765126705169678\n",
            "Epoch 45: Train Loss: 6.219303131103516 Val Loss: 6.765218734741211\n",
            "Epoch 46: Train Loss: 6.200804233551025 Val Loss: 6.765309810638428\n",
            "Epoch 47: Train Loss: 6.1822590827941895 Val Loss: 6.76539945602417\n",
            "Epoch 48: Train Loss: 6.163661956787109 Val Loss: 6.7654876708984375\n",
            "Epoch 49: Train Loss: 6.145012855529785 Val Loss: 6.765575408935547\n",
            "Epoch 50: Train Loss: 6.126311302185059 Val Loss: 6.765661239624023\n",
            "Epoch 51: Train Loss: 6.1075544357299805 Val Loss: 6.765745639801025\n",
            "Epoch 52: Train Loss: 6.088742256164551 Val Loss: 6.765828609466553\n",
            "Epoch 53: Train Loss: 6.069873332977295 Val Loss: 6.765909671783447\n",
            "Epoch 54: Train Loss: 6.050947189331055 Val Loss: 6.7659912109375\n",
            "Epoch 55: Train Loss: 6.0319600105285645 Val Loss: 6.7660698890686035\n",
            "Epoch 56: Train Loss: 6.012913227081299 Val Loss: 6.766148090362549\n",
            "Epoch 57: Train Loss: 5.99380350112915 Val Loss: 6.766225337982178\n",
            "Epoch 58: Train Loss: 5.974630355834961 Val Loss: 6.76630163192749\n",
            "Epoch 59: Train Loss: 5.955394268035889 Val Loss: 6.766376972198486\n",
            "Epoch 60: Train Loss: 5.936091899871826 Val Loss: 6.766452312469482\n",
            "Epoch 61: Train Loss: 5.916723728179932 Val Loss: 6.766526699066162\n",
            "Epoch 62: Train Loss: 5.897286891937256 Val Loss: 6.766601085662842\n",
            "Epoch 63: Train Loss: 5.877781391143799 Val Loss: 6.7666754722595215\n",
            "Epoch 64: Train Loss: 5.858205795288086 Val Loss: 6.766748905181885\n",
            "Epoch 65: Train Loss: 5.838560104370117 Val Loss: 6.766822814941406\n",
            "Epoch 66: Train Loss: 5.818841457366943 Val Loss: 6.766897201538086\n",
            "Epoch 67: Train Loss: 5.799048900604248 Val Loss: 6.766972064971924\n",
            "Epoch 68: Train Loss: 5.779183864593506 Val Loss: 6.767047882080078\n",
            "Epoch 69: Train Loss: 5.759243488311768 Val Loss: 6.767124176025391\n",
            "Epoch 70: Train Loss: 5.7392258644104 Val Loss: 6.767200469970703\n",
            "Epoch 71: Train Loss: 5.719130992889404 Val Loss: 6.767278671264648\n",
            "Epoch 72: Train Loss: 5.698958873748779 Val Loss: 6.767356872558594\n",
            "Epoch 73: Train Loss: 5.678706645965576 Val Loss: 6.767436981201172\n",
            "Epoch 74: Train Loss: 5.658374786376953 Val Loss: 6.767517566680908\n",
            "Epoch 75: Train Loss: 5.637962341308594 Val Loss: 6.767599582672119\n",
            "Epoch 76: Train Loss: 5.617467403411865 Val Loss: 6.767683506011963\n",
            "Epoch 77: Train Loss: 5.596889019012451 Val Loss: 6.767768383026123\n",
            "Epoch 78: Train Loss: 5.576227188110352 Val Loss: 6.767854690551758\n",
            "Epoch 79: Train Loss: 5.555481433868408 Val Loss: 6.767942428588867\n",
            "Epoch 80: Train Loss: 5.534648895263672 Val Loss: 6.768032073974609\n",
            "Epoch 81: Train Loss: 5.513730525970459 Val Loss: 6.768123626708984\n",
            "Epoch 82: Train Loss: 5.4927239418029785 Val Loss: 6.768216609954834\n",
            "Epoch 83: Train Loss: 5.471630573272705 Val Loss: 6.768310546875\n",
            "Epoch 84: Train Loss: 5.450448036193848 Val Loss: 6.768407344818115\n",
            "Epoch 85: Train Loss: 5.429175853729248 Val Loss: 6.768505096435547\n",
            "Epoch 86: Train Loss: 5.40781307220459 Val Loss: 6.768605709075928\n",
            "Epoch 87: Train Loss: 5.386358737945557 Val Loss: 6.768707752227783\n",
            "Epoch 88: Train Loss: 5.364813327789307 Val Loss: 6.76881217956543\n",
            "Epoch 89: Train Loss: 5.343174934387207 Val Loss: 6.768918514251709\n",
            "Epoch 90: Train Loss: 5.321443557739258 Val Loss: 6.769026279449463\n",
            "Epoch 91: Train Loss: 5.299617767333984 Val Loss: 6.769136428833008\n",
            "Epoch 92: Train Loss: 5.277698040008545 Val Loss: 6.769248962402344\n",
            "Epoch 93: Train Loss: 5.255681991577148 Val Loss: 6.7693634033203125\n",
            "Epoch 94: Train Loss: 5.233572006225586 Val Loss: 6.769479751586914\n",
            "Epoch 95: Train Loss: 5.211364269256592 Val Loss: 6.769598484039307\n",
            "Epoch 96: Train Loss: 5.189060211181641 Val Loss: 6.76971960067749\n",
            "Epoch 97: Train Loss: 5.1666579246521 Val Loss: 6.769842624664307\n",
            "Epoch 98: Train Loss: 5.144158840179443 Val Loss: 6.769968032836914\n",
            "Epoch 99: Train Loss: 5.121562480926514 Val Loss: 6.7700958251953125\n"
          ]
        },
        {
          "output_type": "display_data",
          "data": {
            "text/plain": [
              "<Figure size 800x500 with 1 Axes>"
            ],
            "image/png": "[encoded data removed]"
          },
          "metadata": {}
        }
      ]
    },
    {
      "cell_type": "code",
      "source": [
        "# Evaluation\n",
        "# Compute precision.\n",
        "\n",
        "def calculate_precision(dataset):\n",
        "  dataloader = torch.utils.data.DataLoader(dataset, batch_size=batch_size, shuffle=True)\n",
        "  correct_labels = 0\n",
        "  with torch.no_grad():\n",
        "    # print(dataloader)\n",
        "    for (context, target, negatives) in dataloader:\n",
        "        preds = model(context)\n",
        "        # print(preds.shape)\n",
        "        preds = torch.argmax(preds, dim=1)\n",
        "        # print(preds.shape)\n",
        "        # print(target.shape)\n",
        "        correct_labels += sum(int(t.item()) == int(p.item()) for t, p in zip(target, preds))/len(target)\n",
        "  return correct_labels/len(dataloader)\n",
        "\n",
        "print('Train precision', calculate_precision(TokenDataset(train_x)))\n",
        "print('Val precision', calculate_precision(TokenDataset(val_x)))\n",
        "print('Test precision', calculate_precision(TokenDataset(test_x)))\n",
        "\n",
        "# Train precision 0.3603989825581395\n",
        "# Val precision 0.0933990036231884\n",
        "# Test precision 0.10546875\n",
        "\n",
        "# Train precision 0.09443577607640107\n",
        "# Val precision 0.09170608108108108\n",
        "# Test precision 0.09745238329399424\n",
        "\n",
        "#  Batch 2048\n",
        "# Train precision 0.020413914066257817\n",
        "# Val precision 0.020658735795454547\n",
        "# Test precision 0.016394776028067885"
      ],
      "metadata": {
        "id": "VI5Op6tG7XcZ",
        "colab": {
          "base_uri": "https://localhost:8080/"
        },
        "outputId": "5b09d0d6-53d6-4352-b07e-ac4d4fde7b3e"
      },
      "execution_count": 25,
      "outputs": [
        {
          "output_type": "stream",
          "name": "stdout",
          "text": [
            "Train precision 0.7894736842105263\n",
            "Val precision 0.0\n",
            "Test precision 0.0\n"
          ]
        }
      ]
    },
    {
      "cell_type": "code",
      "source": [
        "# Two tower model.\n",
        "\n",
        "from random import shuffle\n",
        "import torch\n",
        "import torch.nn as nn\n",
        "from torch.utils.data import Dataset, DataLoader\n",
        "import torch.nn.functional as F\n",
        "import matplotlib.pyplot as plt\n",
        "\n",
        "batch_size = 2048\n",
        "context_len = 4\n",
        "embedding_dim = 25\n",
        "lr = 0.001\n",
        "epochs = 100\n",
        "\n",
        "class Word2VecModelTwoTower(torch.nn.Module):\n",
        "    def __init__(self, context_size, embedding_dim):\n",
        "        super(Word2VecModelTwoTower, self).__init__()\n",
        "        self.context_embedding_model = nn.Sequential(\n",
        "            nn.Embedding(vocab_size, embedding_dim) # B * 4 * embedding_dim\n",
        "        )\n",
        "        self.word_embedding_model = nn.Sequential( nn.Embedding(vocab_size, embedding_dim)) # B * embedding_dim\n",
        "\n",
        "    def forward(self, context, positive, negatives):\n",
        "        # Create context embedding.\n",
        "        context_embeds = self.context_embedding_model(context) # B * context_size * embedding_dim\n",
        "        context_embeds = context_embeds.mean(dim=1) # B * embedding_dim\n",
        "\n",
        "        positive_embeds = self.word_embedding_model(positive) # B * embedding_dim\n",
        "        negatives_embeds = self.word_embedding_model(negatives) # B * #negatives * embedding_dim\n",
        "\n",
        "        context_embeds = F.normalize(context_embeds, p=2, dim=1)\n",
        "        positive_embeds = F.normalize(positive_embeds, p=2, dim=1)\n",
        "        negatives_embeds = F.normalize(negatives_embeds, p=2, dim=2)\n",
        "\n",
        "        pos_score = torch.sum(positive_embeds * context_embeds, dim=1) # (B * embedding_dim) * (B * embedding_dim) =  B\n",
        "        neg_score = torch.bmm(negatives_embeds, context_embeds.unsqueeze(2)).squeeze(2) ## (B * N * embedding_dim) * (B * embedding_dim * 1) = B * N\n",
        "\n",
        "        pos_loss = F.logsigmoid(pos_score)\n",
        "        neg_loss = F.logsigmoid(-neg_score).mean(dim=1)\n",
        "\n",
        "        return - (pos_loss + neg_loss).mean()\n",
        "\n",
        "    def get_word_embeddings(self, token):\n",
        "\n",
        "        return self.word_embedding_model(token)\n",
        "\n",
        "    def get_all_word_embeddings(self):\n",
        "        return self.word_embedding_model[0].weight.data\n",
        "\n",
        "    def get_context_embeddings(self, context):\n",
        "        embed =  self.context_embedding_model(context)\n",
        "        return embed.mean(dim=1);\n",
        "\n",
        "try:\n",
        "  train_dataloader = torch.utils.data.DataLoader(TokenDataset(train_x), batch_size=batch_size, shuffle=True)\n",
        "  val_dataloader = torch.utils.data.DataLoader(TokenDataset(val_x), batch_size=batch_size, shuffle=True)\n",
        "\n",
        "  model = Word2VecModelTwoTower(context_len, embedding_dim)\n",
        "  optimizer = torch.optim.Adam(model.parameters(), lr=lr)\n",
        "  criterion = nn.CrossEntropyLoss()\n",
        "\n",
        "  train_losses=[]\n",
        "  val_losses=[]\n",
        "  for i in range(epochs):\n",
        "    train_loss=0\n",
        "    model.train()\n",
        "    for (context, positive, negatives) in train_dataloader:\n",
        "      optimizer.zero_grad()\n",
        "      loss = model(context, positive, negatives)\n",
        "      # print(\"preds\", preds.shape)\n",
        "      # print(\"target\", target.shape)\n",
        "      # loss = criterion(preds, target)\n",
        "      loss.backward()\n",
        "      optimizer.step()\n",
        "      train_loss+=loss.item()\n",
        "    train_losses.append(train_loss/len(train_dataloader))\n",
        "\n",
        "    model.eval()\n",
        "    val_loss=0\n",
        "    with torch.no_grad():\n",
        "      for (context, positive, negatives) in val_dataloader:\n",
        "        loss = model(context, positive, negatives)\n",
        "        val_loss+=loss.item()\n",
        "    print(f\"Epoch {i}: Train Loss: {train_loss/len(train_dataloader)} Val Loss: {val_loss/len(val_dataloader)}\")\n",
        "    val_losses.append(val_loss/len(val_dataloader))\n",
        "except Exception as e:\n",
        "  print(e)\n",
        "\n",
        "def plot_losses(train_losses, val_losses):\n",
        "  plt.figure(figsize=(8, 5))\n",
        "  plt.plot(train_losses, label='train_loss')\n",
        "  plt.plot(val_losses, label='eval_loss')\n",
        "  plt.xlabel('Epoch')\n",
        "  plt.ylabel('Loss')\n",
        "  plt.legend()\n",
        "  plt.show()\n",
        "plot_losses(train_losses, val_losses)\n",
        "\n",
        "\n",
        "# torch.save(model, '/content/drive/MyDrive/models/full_word2vec_model.pth')\n",
        "\n",
        "# model = torch.load('/content/drive/MyDrive/full_word2vec_model.pth')\n",
        "\n",
        "# Epoch 0: Train Loss: 9.06789674426234 Val Loss: 8.547160357236862\n",
        "# Epoch 1: Train Loss: 7.7784698042758675 Val Loss: 7.846964160601298\n",
        "# Epoch 2: Train Loss: 6.753841448939124 Val Loss: 7.311199476321538\n",
        "# Epoch 3: Train Loss: 5.896664729229239 Val Loss: 6.864484081665675\n",
        "# Epoch 4: Train Loss: 5.171488867249599 Val Loss: 6.500809093316396\n"
      ],
      "metadata": {
        "id": "SRyIGkqI0vG1",
        "colab": {
          "base_uri": "https://localhost:8080/",
          "height": 1000
        },
        "outputId": "eb5cf69b-3088-47c2-e20a-acb312a44497"
      },
      "execution_count": 44,
      "outputs": [
        {
          "output_type": "stream",
          "name": "stdout",
          "text": [
            "Epoch 0: Train Loss: 1.358466625213623 Val Loss: 1.409040093421936\n",
            "Epoch 1: Train Loss: 1.3570297956466675 Val Loss: 1.4090523719787598\n",
            "Epoch 2: Train Loss: 1.3555948734283447 Val Loss: 1.4090648889541626\n",
            "Epoch 3: Train Loss: 1.3541616201400757 Val Loss: 1.4090782403945923\n",
            "Epoch 4: Train Loss: 1.352730393409729 Val Loss: 1.409092903137207\n",
            "Epoch 5: Train Loss: 1.351300835609436 Val Loss: 1.4091085195541382\n",
            "Epoch 6: Train Loss: 1.349873423576355 Val Loss: 1.4091249704360962\n",
            "Epoch 7: Train Loss: 1.3484476804733276 Val Loss: 1.4091421365737915\n",
            "Epoch 8: Train Loss: 1.3470240831375122 Val Loss: 1.4091600179672241\n",
            "Epoch 9: Train Loss: 1.3456023931503296 Val Loss: 1.4091781377792358\n",
            "Epoch 10: Train Loss: 1.3441827297210693 Val Loss: 1.4091967344284058\n",
            "Epoch 11: Train Loss: 1.342764973640442 Val Loss: 1.4092155694961548\n",
            "Epoch 12: Train Loss: 1.3413496017456055 Val Loss: 1.4092350006103516\n",
            "Epoch 13: Train Loss: 1.3399362564086914 Val Loss: 1.409254550933838\n",
            "Epoch 14: Train Loss: 1.3385250568389893 Val Loss: 1.409274697303772\n",
            "Epoch 15: Train Loss: 1.3371158838272095 Val Loss: 1.4092950820922852\n",
            "Epoch 16: Train Loss: 1.3357089757919312 Val Loss: 1.4093159437179565\n",
            "Epoch 17: Train Loss: 1.3343042135238647 Val Loss: 1.409337043762207\n",
            "Epoch 18: Train Loss: 1.3329015970230103 Val Loss: 1.4093585014343262\n",
            "Epoch 19: Train Loss: 1.3315011262893677 Val Loss: 1.409380316734314\n",
            "Epoch 20: Train Loss: 1.3301030397415161 Val Loss: 1.4094020128250122\n",
            "Epoch 21: Train Loss: 1.328706979751587 Val Loss: 1.4094239473342896\n",
            "Epoch 22: Train Loss: 1.3273131847381592 Val Loss: 1.4094462394714355\n",
            "Epoch 23: Train Loss: 1.3259217739105225 Val Loss: 1.409468650817871\n",
            "Epoch 24: Train Loss: 1.3245325088500977 Val Loss: 1.409490942955017\n",
            "Epoch 25: Train Loss: 1.3231452703475952 Val Loss: 1.4095134735107422\n",
            "Epoch 26: Train Loss: 1.321760654449463 Val Loss: 1.4095357656478882\n",
            "Epoch 27: Train Loss: 1.320378065109253 Val Loss: 1.4095582962036133\n",
            "Epoch 28: Train Loss: 1.3189979791641235 Val Loss: 1.4095808267593384\n",
            "Epoch 29: Train Loss: 1.3176201581954956 Val Loss: 1.409603238105774\n",
            "Epoch 30: Train Loss: 1.3162446022033691 Val Loss: 1.4096256494522095\n",
            "Epoch 31: Train Loss: 1.3148711919784546 Val Loss: 1.4096479415893555\n",
            "Epoch 32: Train Loss: 1.3135000467300415 Val Loss: 1.409670352935791\n",
            "Epoch 33: Train Loss: 1.3121312856674194 Val Loss: 1.4096927642822266\n",
            "Epoch 34: Train Loss: 1.3107647895812988 Val Loss: 1.409714698791504\n",
            "Epoch 35: Train Loss: 1.3094005584716797 Val Loss: 1.4097367525100708\n",
            "Epoch 36: Train Loss: 1.3080387115478516 Val Loss: 1.4097585678100586\n",
            "Epoch 37: Train Loss: 1.3066790103912354 Val Loss: 1.409780502319336\n",
            "Epoch 38: Train Loss: 1.3053216934204102 Val Loss: 1.4098020792007446\n",
            "Epoch 39: Train Loss: 1.303966760635376 Val Loss: 1.4098237752914429\n",
            "Epoch 40: Train Loss: 1.3026138544082642 Val Loss: 1.409844994544983\n",
            "Epoch 41: Train Loss: 1.3012633323669434 Val Loss: 1.409866213798523\n",
            "Epoch 42: Train Loss: 1.2999149560928345 Val Loss: 1.4098871946334839\n",
            "Epoch 43: Train Loss: 1.2985689640045166 Val Loss: 1.4099079370498657\n",
            "Epoch 44: Train Loss: 1.2972251176834106 Val Loss: 1.4099284410476685\n",
            "Epoch 45: Train Loss: 1.2958836555480957 Val Loss: 1.4099489450454712\n",
            "Epoch 46: Train Loss: 1.2945444583892822 Val Loss: 1.4099692106246948\n",
            "Epoch 47: Train Loss: 1.2932072877883911 Val Loss: 1.4099892377853394\n",
            "Epoch 48: Train Loss: 1.2918723821640015 Val Loss: 1.4100090265274048\n",
            "Epoch 49: Train Loss: 1.2905397415161133 Val Loss: 1.4100285768508911\n",
            "Epoch 50: Train Loss: 1.2892094850540161 Val Loss: 1.410048007965088\n",
            "Epoch 51: Train Loss: 1.2878812551498413 Val Loss: 1.4100672006607056\n",
            "Epoch 52: Train Loss: 1.286555290222168 Val Loss: 1.4100862741470337\n",
            "Epoch 53: Train Loss: 1.285231351852417 Val Loss: 1.4101051092147827\n",
            "Epoch 54: Train Loss: 1.2839096784591675 Val Loss: 1.4101237058639526\n",
            "Epoch 55: Train Loss: 1.2825902700424194 Val Loss: 1.410141944885254\n",
            "Epoch 56: Train Loss: 1.2812730073928833 Val Loss: 1.4101601839065552\n",
            "Epoch 57: Train Loss: 1.2799577713012695 Val Loss: 1.4101781845092773\n",
            "Epoch 58: Train Loss: 1.2786448001861572 Val Loss: 1.4101958274841309\n",
            "Epoch 59: Train Loss: 1.2773340940475464 Val Loss: 1.4102134704589844\n",
            "Epoch 60: Train Loss: 1.276025414466858 Val Loss: 1.4102309942245483\n",
            "Epoch 61: Train Loss: 1.2747188806533813 Val Loss: 1.4102481603622437\n",
            "Epoch 62: Train Loss: 1.2734146118164062 Val Loss: 1.410265326499939\n",
            "Epoch 63: Train Loss: 1.272112250328064 Val Loss: 1.4102821350097656\n",
            "Epoch 64: Train Loss: 1.270811915397644 Val Loss: 1.4102988243103027\n",
            "Epoch 65: Train Loss: 1.2695139646530151 Val Loss: 1.4103151559829712\n",
            "Epoch 66: Train Loss: 1.2682180404663086 Val Loss: 1.4103317260742188\n",
            "Epoch 67: Train Loss: 1.2669241428375244 Val Loss: 1.4103479385375977\n",
            "Epoch 68: Train Loss: 1.2656323909759521 Val Loss: 1.410364031791687\n",
            "Epoch 69: Train Loss: 1.2643427848815918 Val Loss: 1.4103800058364868\n",
            "Epoch 70: Train Loss: 1.2630550861358643 Val Loss: 1.4103957414627075\n",
            "Epoch 71: Train Loss: 1.2617695331573486 Val Loss: 1.4104114770889282\n",
            "Epoch 72: Train Loss: 1.2604862451553345 Val Loss: 1.4104270935058594\n",
            "Epoch 73: Train Loss: 1.259204626083374 Val Loss: 1.4104424715042114\n",
            "Epoch 74: Train Loss: 1.2579253911972046 Val Loss: 1.410457730293274\n",
            "Epoch 75: Train Loss: 1.256648063659668 Val Loss: 1.4104728698730469\n",
            "Epoch 76: Train Loss: 1.2553726434707642 Val Loss: 1.4104877710342407\n",
            "Epoch 77: Train Loss: 1.2540996074676514 Val Loss: 1.4105027914047241\n",
            "Epoch 78: Train Loss: 1.2528283596038818 Val Loss: 1.4105175733566284\n",
            "Epoch 79: Train Loss: 1.2515592575073242 Val Loss: 1.4105323553085327\n",
            "Epoch 80: Train Loss: 1.250292181968689 Val Loss: 1.4105466604232788\n",
            "Epoch 81: Train Loss: 1.249027132987976 Val Loss: 1.4105610847473145\n",
            "Epoch 82: Train Loss: 1.2477638721466064 Val Loss: 1.410575270652771\n",
            "Epoch 83: Train Loss: 1.2465027570724487 Val Loss: 1.410589575767517\n",
            "Epoch 84: Train Loss: 1.2452436685562134 Val Loss: 1.4106035232543945\n",
            "Epoch 85: Train Loss: 1.2439866065979004 Val Loss: 1.410617470741272\n",
            "Epoch 86: Train Loss: 1.2427314519882202 Val Loss: 1.4106311798095703\n",
            "Epoch 87: Train Loss: 1.2414785623550415 Val Loss: 1.4106448888778687\n",
            "Epoch 88: Train Loss: 1.2402273416519165 Val Loss: 1.410658359527588\n",
            "Epoch 89: Train Loss: 1.238978385925293 Val Loss: 1.4106718301773071\n",
            "Epoch 90: Train Loss: 1.2377313375473022 Val Loss: 1.4106851816177368\n",
            "Epoch 91: Train Loss: 1.2364860773086548 Val Loss: 1.410698413848877\n",
            "Epoch 92: Train Loss: 1.2352432012557983 Val Loss: 1.410711407661438\n",
            "Epoch 93: Train Loss: 1.2340019941329956 Val Loss: 1.4107242822647095\n",
            "Epoch 94: Train Loss: 1.2327628135681152 Val Loss: 1.410737156867981\n",
            "Epoch 95: Train Loss: 1.2315255403518677 Val Loss: 1.4107500314712524\n",
            "Epoch 96: Train Loss: 1.230290412902832 Val Loss: 1.4107626676559448\n",
            "Epoch 97: Train Loss: 1.2290570735931396 Val Loss: 1.4107751846313477\n",
            "Epoch 98: Train Loss: 1.2278258800506592 Val Loss: 1.4107877016067505\n",
            "Epoch 99: Train Loss: 1.2265965938568115 Val Loss: 1.4107999801635742\n"
          ]
        },
        {
          "output_type": "display_data",
          "data": {
            "text/plain": [
              "<Figure size 800x500 with 1 Axes>"
            ],
            "image/png": "[encoded data removed]"
          },
          "metadata": {}
        }
      ]
    },
    {
      "cell_type": "code",
      "source": [
        "pip install faiss-cpu\n"
      ],
      "metadata": {
        "id": "EhQNaHDCiBdZ",
        "colab": {
          "base_uri": "https://localhost:8080/"
        },
        "outputId": "547f29bd-6ff1-437c-8756-e986983daa54"
      },
      "execution_count": 29,
      "outputs": [
        {
          "output_type": "stream",
          "name": "stdout",
          "text": [
            "Collecting faiss-cpu\n",
            "  Downloading faiss_cpu-1.11.0-cp311-cp311-manylinux_2_28_x86_64.whl.metadata (4.8 kB)\n",
            "Requirement already satisfied: numpy<3.0,>=1.25.0 in /usr/local/lib/python3.11/dist-packages (from faiss-cpu) (2.0.2)\n",
            "Requirement already satisfied: packaging in /usr/local/lib/python3.11/dist-packages (from faiss-cpu) (24.2)\n",
            "Downloading faiss_cpu-1.11.0-cp311-cp311-manylinux_2_28_x86_64.whl (31.3 MB)\n",
            "\u001b[2K   \u001b[90m━━━━━━━━━━━━━━━━━━━━━━━━━━━━━━━━━━━━━━━━\u001b[0m \u001b[32m31.3/31.3 MB\u001b[0m \u001b[31m70.1 MB/s\u001b[0m eta \u001b[36m0:00:00\u001b[0m\n",
            "\u001b[?25hInstalling collected packages: faiss-cpu\n",
            "Successfully installed faiss-cpu-1.11.0\n"
          ]
        }
      ]
    },
    {
      "cell_type": "code",
      "source": [
        "import faiss\n",
        "import torch\n",
        "import numpy as np\n",
        "\n",
        "# Example: assume you have learned word embeddings\n",
        "# embeddings: torch.Tensor of shape [vocab_size, embedding_dim]\n",
        "# ids: List or array of vocab IDs (0 to vocab_size - 1)\n",
        "\n",
        "# Random embeddings (replace with your learned embeddings)\n",
        "embeddings = model.get_all_word_embeddings()\n",
        "embeddings = torch.nn.functional.normalize(embeddings, p=2, dim=1)  # Normalize for cosine similarity\n",
        "\n",
        "# Convert to numpy (FAISS requires float32)\n",
        "embedding_matrix = embeddings.cpu().numpy().astype(np.float32)\n",
        "\n",
        "# Initialize FAISS index for L2 or cosine similarity\n",
        "index = faiss.IndexFlatIP(embedding_dim)  # Inner product (use with normalized vectors for cosine)\n",
        "\n",
        "# Optional: map vector to ID\n",
        "index = faiss.IndexIDMap(index)\n",
        "\n",
        "# Add embeddings with associated IDs\n",
        "ids = np.arange(vocab_size).astype(np.int64)\n",
        "index.reset()\n",
        "index.add_with_ids(embedding_matrix, ids)\n",
        "\n",
        "# Example: Query with one vector\n",
        "query_vector = embeddings[422].unsqueeze(0).numpy()  # shape: [1, embedding_dim]\n",
        "D, I = index.search(query_vector, k=5)  # get top-5 closest\n",
        "print(query_vector.shape)\n",
        "print(\"Closest IDs:\", I[0])\n",
        "print(\"Similarity scores:\", D[0])\n"
      ],
      "metadata": {
        "id": "1L6qLLP9iERT",
        "colab": {
          "base_uri": "https://localhost:8080/"
        },
        "outputId": "bd342113-085b-42a1-baf0-851b7e6c195f"
      },
      "execution_count": 45,
      "outputs": [
        {
          "output_type": "stream",
          "name": "stdout",
          "text": [
            "(1, 25)\n",
            "Closest IDs: [422 112 946 540 249]\n",
            "Similarity scores: [1.        0.6338546 0.6286181 0.5988828 0.5391798]\n"
          ]
        }
      ]
    },
    {
      "cell_type": "code",
      "source": [
        "# Evaluation\n",
        "# Compute precision.\n",
        "\n",
        "def calculate_precision(dataset):\n",
        "  dataloader = torch.utils.data.DataLoader(dataset, batch_size=batch_size, shuffle=True)\n",
        "  correct_labels = 0\n",
        "  count=0\n",
        "  with torch.no_grad():\n",
        "    for (context, positive, negatives) in dataloader:\n",
        "        target=positive\n",
        "        context_embeddings = model.get_context_embeddings(context) # B * embed\n",
        "        context_embeddings = F.normalize(context_embeddings, p=2, dim=1)\n",
        "        context_embeddings = context_embeddings.detach().cpu().numpy().astype(\"float32\")\n",
        "        D, I = index.search(context_embeddings, k=100)\n",
        "        correct_labels += sum(int(t.item() in p) for t, p in zip(target, I))\n",
        "        count+=len(target)\n",
        "  return correct_labels/count\n",
        "\n",
        "print('Train precision', calculate_precision(TokenDataset(train_x)))\n",
        "print('Val precision', calculate_precision(TokenDataset(val_x)))\n",
        "print('Test precision', calculate_precision(TokenDataset(test_x)))\n",
        "\n",
        "# Train precision 4.815651362251458e-06\n",
        "# Val precision 0.0\n",
        "# Test precision 9.856800403734545e-07\n",
        "\n",
        "# Train precision 0.0012328067487363732\n",
        "# Val precision 0.0\n",
        "# Test precision 0.00025233409033560434"
      ],
      "metadata": {
        "id": "bXSO_5zjUrIJ",
        "colab": {
          "base_uri": "https://localhost:8080/"
        },
        "outputId": "56166c94-7d67-493b-b562-960e209cb90f"
      },
      "execution_count": 49,
      "outputs": [
        {
          "output_type": "stream",
          "name": "stdout",
          "text": [
            "Train precision 0.5263157894736842\n",
            "Val precision 0.0\n",
            "Test precision 0.3333333333333333\n"
          ]
        }
      ]
    }
  ],
  "metadata": {
    "colab": {
      "provenance": [],
      "gpuType": "T4"
    },
    "kernelspec": {
      "display_name": "Python 3",
      "name": "python3"
    },
    "language_info": {
      "name": "python"
    },
    "accelerator": "GPU"
  },
  "nbformat": 4,
  "nbformat_minor": 0
}